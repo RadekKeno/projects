{
 "cells": [
  {
   "cell_type": "markdown",
   "id": "afca32f0",
   "metadata": {},
   "source": [
    "In this project, we will try to predict flight price, based on features like distance, destination, airline and so on."
   ]
  },
  {
   "cell_type": "code",
   "execution_count": 133,
   "id": "eca5db19",
   "metadata": {},
   "outputs": [],
   "source": [
    "#import libraries\n",
    "import pandas as pd\n",
    "import seaborn as sns\n",
    "import numpy as np\n",
    "import matplotlib.pyplot as plt\n",
    "import datetime as dt\n",
    "from sklearn import metrics\n",
    "from sklearn.model_selection import train_test_split\n",
    "from sklearn.ensemble import RandomForestRegressor, ExtraTreesRegressor\n",
    "\n",
    "#graphs will look nicer\n",
    "sns.set()"
   ]
  },
  {
   "cell_type": "markdown",
   "id": "34d27cd2",
   "metadata": {},
   "source": [
    "At first let's get to know with data, check null values and types of columns."
   ]
  },
  {
   "cell_type": "code",
   "execution_count": 134,
   "id": "c6c11446",
   "metadata": {},
   "outputs": [
    {
     "data": {
      "text/html": [
       "<div>\n",
       "<style scoped>\n",
       "    .dataframe tbody tr th:only-of-type {\n",
       "        vertical-align: middle;\n",
       "    }\n",
       "\n",
       "    .dataframe tbody tr th {\n",
       "        vertical-align: top;\n",
       "    }\n",
       "\n",
       "    .dataframe thead th {\n",
       "        text-align: right;\n",
       "    }\n",
       "</style>\n",
       "<table border=\"1\" class=\"dataframe\">\n",
       "  <thead>\n",
       "    <tr style=\"text-align: right;\">\n",
       "      <th></th>\n",
       "      <th>Airline</th>\n",
       "      <th>Date_of_Journey</th>\n",
       "      <th>Source</th>\n",
       "      <th>Destination</th>\n",
       "      <th>Route</th>\n",
       "      <th>Dep_Time</th>\n",
       "      <th>Arrival_Time</th>\n",
       "      <th>Duration</th>\n",
       "      <th>Total_Stops</th>\n",
       "      <th>Additional_Info</th>\n",
       "      <th>Price</th>\n",
       "    </tr>\n",
       "  </thead>\n",
       "  <tbody>\n",
       "    <tr>\n",
       "      <th>0</th>\n",
       "      <td>IndiGo</td>\n",
       "      <td>24/03/2019</td>\n",
       "      <td>Banglore</td>\n",
       "      <td>New Delhi</td>\n",
       "      <td>BLR → DEL</td>\n",
       "      <td>22:20</td>\n",
       "      <td>01:10 22 Mar</td>\n",
       "      <td>2h 50m</td>\n",
       "      <td>non-stop</td>\n",
       "      <td>No info</td>\n",
       "      <td>3897</td>\n",
       "    </tr>\n",
       "    <tr>\n",
       "      <th>1</th>\n",
       "      <td>Air India</td>\n",
       "      <td>1/05/2019</td>\n",
       "      <td>Kolkata</td>\n",
       "      <td>Banglore</td>\n",
       "      <td>CCU → IXR → BBI → BLR</td>\n",
       "      <td>05:50</td>\n",
       "      <td>13:15</td>\n",
       "      <td>7h 25m</td>\n",
       "      <td>2 stops</td>\n",
       "      <td>No info</td>\n",
       "      <td>7662</td>\n",
       "    </tr>\n",
       "    <tr>\n",
       "      <th>2</th>\n",
       "      <td>Jet Airways</td>\n",
       "      <td>9/06/2019</td>\n",
       "      <td>Delhi</td>\n",
       "      <td>Cochin</td>\n",
       "      <td>DEL → LKO → BOM → COK</td>\n",
       "      <td>09:25</td>\n",
       "      <td>04:25 10 Jun</td>\n",
       "      <td>19h</td>\n",
       "      <td>2 stops</td>\n",
       "      <td>No info</td>\n",
       "      <td>13882</td>\n",
       "    </tr>\n",
       "    <tr>\n",
       "      <th>3</th>\n",
       "      <td>IndiGo</td>\n",
       "      <td>12/05/2019</td>\n",
       "      <td>Kolkata</td>\n",
       "      <td>Banglore</td>\n",
       "      <td>CCU → NAG → BLR</td>\n",
       "      <td>18:05</td>\n",
       "      <td>23:30</td>\n",
       "      <td>5h 25m</td>\n",
       "      <td>1 stop</td>\n",
       "      <td>No info</td>\n",
       "      <td>6218</td>\n",
       "    </tr>\n",
       "    <tr>\n",
       "      <th>4</th>\n",
       "      <td>IndiGo</td>\n",
       "      <td>01/03/2019</td>\n",
       "      <td>Banglore</td>\n",
       "      <td>New Delhi</td>\n",
       "      <td>BLR → NAG → DEL</td>\n",
       "      <td>16:50</td>\n",
       "      <td>21:35</td>\n",
       "      <td>4h 45m</td>\n",
       "      <td>1 stop</td>\n",
       "      <td>No info</td>\n",
       "      <td>13302</td>\n",
       "    </tr>\n",
       "  </tbody>\n",
       "</table>\n",
       "</div>"
      ],
      "text/plain": [
       "       Airline Date_of_Journey    Source Destination                  Route  \\\n",
       "0       IndiGo      24/03/2019  Banglore   New Delhi              BLR → DEL   \n",
       "1    Air India       1/05/2019   Kolkata    Banglore  CCU → IXR → BBI → BLR   \n",
       "2  Jet Airways       9/06/2019     Delhi      Cochin  DEL → LKO → BOM → COK   \n",
       "3       IndiGo      12/05/2019   Kolkata    Banglore        CCU → NAG → BLR   \n",
       "4       IndiGo      01/03/2019  Banglore   New Delhi        BLR → NAG → DEL   \n",
       "\n",
       "  Dep_Time  Arrival_Time Duration Total_Stops Additional_Info  Price  \n",
       "0    22:20  01:10 22 Mar   2h 50m    non-stop         No info   3897  \n",
       "1    05:50         13:15   7h 25m     2 stops         No info   7662  \n",
       "2    09:25  04:25 10 Jun      19h     2 stops         No info  13882  \n",
       "3    18:05         23:30   5h 25m      1 stop         No info   6218  \n",
       "4    16:50         21:35   4h 45m      1 stop         No info  13302  "
      ]
     },
     "execution_count": 134,
     "metadata": {},
     "output_type": "execute_result"
    }
   ],
   "source": [
    "df = pd.read_excel('Flight Dataset/Data_Train.xlsx') #load dataset\n",
    "df.head()"
   ]
  },
  {
   "cell_type": "code",
   "execution_count": 135,
   "id": "dfdee882",
   "metadata": {},
   "outputs": [
    {
     "name": "stdout",
     "output_type": "stream",
     "text": [
      "<class 'pandas.core.frame.DataFrame'>\n",
      "RangeIndex: 10683 entries, 0 to 10682\n",
      "Data columns (total 11 columns):\n",
      " #   Column           Non-Null Count  Dtype \n",
      "---  ------           --------------  ----- \n",
      " 0   Airline          10683 non-null  object\n",
      " 1   Date_of_Journey  10683 non-null  object\n",
      " 2   Source           10683 non-null  object\n",
      " 3   Destination      10683 non-null  object\n",
      " 4   Route            10682 non-null  object\n",
      " 5   Dep_Time         10683 non-null  object\n",
      " 6   Arrival_Time     10683 non-null  object\n",
      " 7   Duration         10683 non-null  object\n",
      " 8   Total_Stops      10682 non-null  object\n",
      " 9   Additional_Info  10683 non-null  object\n",
      " 10  Price            10683 non-null  int64 \n",
      "dtypes: int64(1), object(10)\n",
      "memory usage: 918.2+ KB\n"
     ]
    }
   ],
   "source": [
    "df.info()"
   ]
  },
  {
   "cell_type": "code",
   "execution_count": 136,
   "id": "d054073f",
   "metadata": {},
   "outputs": [
    {
     "data": {
      "text/plain": [
       "Airline            0\n",
       "Date_of_Journey    0\n",
       "Source             0\n",
       "Destination        0\n",
       "Route              1\n",
       "Dep_Time           0\n",
       "Arrival_Time       0\n",
       "Duration           0\n",
       "Total_Stops        1\n",
       "Additional_Info    0\n",
       "Price              0\n",
       "dtype: int64"
      ]
     },
     "execution_count": 136,
     "metadata": {},
     "output_type": "execute_result"
    }
   ],
   "source": [
    "#calculate number of null values in every column\n",
    "df.isna().sum()"
   ]
  },
  {
   "cell_type": "code",
   "execution_count": 137,
   "id": "cadec99f",
   "metadata": {},
   "outputs": [],
   "source": [
    "#there are only 2 null values so get rid of these rows\n",
    "df = df.dropna()"
   ]
  },
  {
   "cell_type": "markdown",
   "id": "08016942",
   "metadata": {},
   "source": [
    "At first lets convert Date_of_Journey, Dep_Time, Arrival_Time, Duration and Total_Stops columns to numerical values so it will be much easier to work with them"
   ]
  },
  {
   "cell_type": "code",
   "execution_count": 138,
   "id": "66adc842",
   "metadata": {},
   "outputs": [
    {
     "data": {
      "text/html": [
       "<div>\n",
       "<style scoped>\n",
       "    .dataframe tbody tr th:only-of-type {\n",
       "        vertical-align: middle;\n",
       "    }\n",
       "\n",
       "    .dataframe tbody tr th {\n",
       "        vertical-align: top;\n",
       "    }\n",
       "\n",
       "    .dataframe thead th {\n",
       "        text-align: right;\n",
       "    }\n",
       "</style>\n",
       "<table border=\"1\" class=\"dataframe\">\n",
       "  <thead>\n",
       "    <tr style=\"text-align: right;\">\n",
       "      <th></th>\n",
       "      <th>Date_of_Journey</th>\n",
       "      <th>Dep_Time</th>\n",
       "      <th>Arrival_Time</th>\n",
       "      <th>Duration</th>\n",
       "      <th>Total_Stops</th>\n",
       "    </tr>\n",
       "  </thead>\n",
       "  <tbody>\n",
       "    <tr>\n",
       "      <th>0</th>\n",
       "      <td>24/03/2019</td>\n",
       "      <td>22:20</td>\n",
       "      <td>01:10 22 Mar</td>\n",
       "      <td>2h 50m</td>\n",
       "      <td>non-stop</td>\n",
       "    </tr>\n",
       "    <tr>\n",
       "      <th>1</th>\n",
       "      <td>1/05/2019</td>\n",
       "      <td>05:50</td>\n",
       "      <td>13:15</td>\n",
       "      <td>7h 25m</td>\n",
       "      <td>2 stops</td>\n",
       "    </tr>\n",
       "    <tr>\n",
       "      <th>2</th>\n",
       "      <td>9/06/2019</td>\n",
       "      <td>09:25</td>\n",
       "      <td>04:25 10 Jun</td>\n",
       "      <td>19h</td>\n",
       "      <td>2 stops</td>\n",
       "    </tr>\n",
       "    <tr>\n",
       "      <th>3</th>\n",
       "      <td>12/05/2019</td>\n",
       "      <td>18:05</td>\n",
       "      <td>23:30</td>\n",
       "      <td>5h 25m</td>\n",
       "      <td>1 stop</td>\n",
       "    </tr>\n",
       "    <tr>\n",
       "      <th>4</th>\n",
       "      <td>01/03/2019</td>\n",
       "      <td>16:50</td>\n",
       "      <td>21:35</td>\n",
       "      <td>4h 45m</td>\n",
       "      <td>1 stop</td>\n",
       "    </tr>\n",
       "  </tbody>\n",
       "</table>\n",
       "</div>"
      ],
      "text/plain": [
       "  Date_of_Journey Dep_Time  Arrival_Time Duration Total_Stops\n",
       "0      24/03/2019    22:20  01:10 22 Mar   2h 50m    non-stop\n",
       "1       1/05/2019    05:50         13:15   7h 25m     2 stops\n",
       "2       9/06/2019    09:25  04:25 10 Jun      19h     2 stops\n",
       "3      12/05/2019    18:05         23:30   5h 25m      1 stop\n",
       "4      01/03/2019    16:50         21:35   4h 45m      1 stop"
      ]
     },
     "execution_count": 138,
     "metadata": {},
     "output_type": "execute_result"
    }
   ],
   "source": [
    "df[[\"Date_of_Journey\", \"Dep_Time\", \"Arrival_Time\", \"Duration\", \"Total_Stops\"]].head()"
   ]
  },
  {
   "cell_type": "code",
   "execution_count": 139,
   "id": "90897412",
   "metadata": {},
   "outputs": [],
   "source": [
    "#Convert Date_of_journey column to day, month and year columns \n",
    "datetime = pd.to_datetime(df[\"Date_of_Journey\"], format = \"%d/%m/%Y\")\n",
    "\n",
    "#create new columns, with numeric values of day, and month\n",
    "df['Journey_day'] = datetime.dt.day\n",
    "df['Journey_month'] = datetime.dt.month"
   ]
  },
  {
   "cell_type": "code",
   "execution_count": 140,
   "id": "b6e68f9d",
   "metadata": {},
   "outputs": [
    {
     "name": "stdout",
     "output_type": "stream",
     "text": [
      "min:  2019\n",
      "max:  2019\n"
     ]
    }
   ],
   "source": [
    "#check wheter we have data from multiple years\n",
    "print(\"min: \", datetime.dt.year.min())\n",
    "print(\"max: \", datetime.dt.year.max())"
   ]
  },
  {
   "cell_type": "code",
   "execution_count": 141,
   "id": "0187ab33",
   "metadata": {},
   "outputs": [],
   "source": [
    "#drop redundant column\n",
    "df.drop(['Date_of_Journey'], inplace = True, axis=1)"
   ]
  },
  {
   "cell_type": "code",
   "execution_count": 142,
   "id": "e3d3ec5d",
   "metadata": {},
   "outputs": [
    {
     "data": {
      "text/plain": [
       "0        22.333333\n",
       "1         5.833333\n",
       "2         9.416667\n",
       "3        18.083333\n",
       "4        16.833333\n",
       "           ...    \n",
       "10678    19.916667\n",
       "10679    20.750000\n",
       "10680     8.333333\n",
       "10681    11.500000\n",
       "10682    10.916667\n",
       "Name: Dep_Time, Length: 10682, dtype: float64"
      ]
     },
     "execution_count": 142,
     "metadata": {},
     "output_type": "execute_result"
    }
   ],
   "source": [
    "def dep_t(x):\n",
    "    \"\"\"this function will convert string with time to numeric value\"\"\"\n",
    "    x = x.split(\":\")\n",
    "    h = int(x[0]) #hour value\n",
    "    m = int(x[1]) / 60 #minute value divided by 60\n",
    "    return h + m\n",
    "\n",
    "#change column with dep_t function\n",
    "df[\"Dep_Time\"] = df[\"Dep_Time\"].apply(dep_t)\n",
    "df[\"Dep_Time\"]"
   ]
  },
  {
   "cell_type": "code",
   "execution_count": 143,
   "id": "fcb2bf6d",
   "metadata": {},
   "outputs": [
    {
     "data": {
      "text/plain": [
       "0         2.833333\n",
       "1         7.416667\n",
       "2        19.000000\n",
       "3         5.416667\n",
       "4         4.750000\n",
       "           ...    \n",
       "10678     2.500000\n",
       "10679     2.583333\n",
       "10680     3.000000\n",
       "10681     2.666667\n",
       "10682     8.333333\n",
       "Name: Duration, Length: 10682, dtype: float64"
      ]
     },
     "execution_count": 143,
     "metadata": {},
     "output_type": "execute_result"
    }
   ],
   "source": [
    "def dur(x):\n",
    "    \"\"\"this functin will extract duration of fly\"\"\"\n",
    "    x = x.split() #split string to hours and minutes\n",
    "    h = x[0] # hours\n",
    "    h = int(h[:-1]) # change type from string to integer without last character h\n",
    "    if len(x) > 1: # if there are some minutes\n",
    "        m = x[1] # string with minutes\n",
    "        m = int(m[:-1]) / 60 #change type from string to integer without last character m and divide it by 60\n",
    "        return h + m \n",
    "    return h\n",
    "\n",
    "#apply dur function\n",
    "df[\"Duration\"] = df[\"Duration\"].apply(dur)\n",
    "df[\"Duration\"]"
   ]
  },
  {
   "cell_type": "code",
   "execution_count": 144,
   "id": "dd262404",
   "metadata": {},
   "outputs": [
    {
     "data": {
      "text/plain": [
       "0         1.166667\n",
       "1        13.250000\n",
       "2         4.416667\n",
       "3        23.500000\n",
       "4        21.583333\n",
       "           ...    \n",
       "10678    22.416667\n",
       "10679    23.333333\n",
       "10680    11.333333\n",
       "10681    14.166667\n",
       "10682    19.250000\n",
       "Name: Arrival_Time, Length: 10682, dtype: float64"
      ]
     },
     "execution_count": 144,
     "metadata": {},
     "output_type": "execute_result"
    }
   ],
   "source": [
    "def arr_time(x):\n",
    "    \"\"\"Extract arrival time\"\"\"\n",
    "    x = x.split()[0] # split string by space and pick firt values - time\n",
    "    x = x.split(\":\") # split time string\n",
    "    h = int(x[0]) # hours\n",
    "    m = int(x[1]) / 60 # minutes divided by 60 \n",
    "    return h + m\n",
    "\n",
    "#apply arr_time func\n",
    "df[\"Arrival_Time\"] = df[\"Arrival_Time\"].apply(arr_time)\n",
    "df[\"Arrival_Time\"]"
   ]
  },
  {
   "cell_type": "code",
   "execution_count": 145,
   "id": "78206855",
   "metadata": {},
   "outputs": [
    {
     "data": {
      "text/plain": [
       "0.0    6346\n",
       "1.0    4285\n",
       "2.0      51\n",
       "Name: Nights, dtype: int64"
      ]
     },
     "execution_count": 145,
     "metadata": {},
     "output_type": "execute_result"
    }
   ],
   "source": [
    "#Create new feature Nights, that will tell the difference in calendar days, between departure and arrival time\n",
    "df[\"Nights\"] = (df[\"Dep_Time\"] + df[\"Duration\"]) // 24\n",
    "\n",
    "#print number of distinct values\n",
    "df[\"Nights\"].value_counts()"
   ]
  },
  {
   "cell_type": "code",
   "execution_count": 146,
   "id": "8b1ee1c9",
   "metadata": {},
   "outputs": [
    {
     "data": {
      "text/plain": [
       "1 stop      5625\n",
       "non-stop    3491\n",
       "2 stops     1520\n",
       "3 stops       45\n",
       "4 stops        1\n",
       "Name: Total_Stops, dtype: int64"
      ]
     },
     "execution_count": 146,
     "metadata": {},
     "output_type": "execute_result"
    }
   ],
   "source": [
    "#print all distinct values of Total_Stops column \n",
    "df[\"Total_Stops\"].value_counts()"
   ]
  },
  {
   "cell_type": "code",
   "execution_count": 147,
   "id": "f6b7ef7c",
   "metadata": {},
   "outputs": [
    {
     "data": {
      "text/plain": [
       "0        0\n",
       "1        2\n",
       "2        2\n",
       "3        1\n",
       "4        1\n",
       "        ..\n",
       "10678    0\n",
       "10679    0\n",
       "10680    0\n",
       "10681    0\n",
       "10682    2\n",
       "Name: Total_Stops, Length: 10682, dtype: int64"
      ]
     },
     "execution_count": 147,
     "metadata": {},
     "output_type": "execute_result"
    }
   ],
   "source": [
    "#lets change Total_stops strings with integers\n",
    "df['Total_Stops'].replace({'non-stop': 0,'1 stop': 1,'2 stops': 2,'3 stops': 3,'4 stops': 4},inplace=True)\n",
    "df['Total_Stops']"
   ]
  },
  {
   "cell_type": "code",
   "execution_count": 148,
   "id": "9be9cc17",
   "metadata": {},
   "outputs": [
    {
     "data": {
      "text/html": [
       "<div>\n",
       "<style scoped>\n",
       "    .dataframe tbody tr th:only-of-type {\n",
       "        vertical-align: middle;\n",
       "    }\n",
       "\n",
       "    .dataframe tbody tr th {\n",
       "        vertical-align: top;\n",
       "    }\n",
       "\n",
       "    .dataframe thead th {\n",
       "        text-align: right;\n",
       "    }\n",
       "</style>\n",
       "<table border=\"1\" class=\"dataframe\">\n",
       "  <thead>\n",
       "    <tr style=\"text-align: right;\">\n",
       "      <th></th>\n",
       "      <th>Airline</th>\n",
       "      <th>Source</th>\n",
       "      <th>Destination</th>\n",
       "      <th>Route</th>\n",
       "      <th>Dep_Time</th>\n",
       "      <th>Arrival_Time</th>\n",
       "      <th>Duration</th>\n",
       "      <th>Total_Stops</th>\n",
       "      <th>Additional_Info</th>\n",
       "      <th>Price</th>\n",
       "      <th>Journey_day</th>\n",
       "      <th>Journey_month</th>\n",
       "      <th>Nights</th>\n",
       "    </tr>\n",
       "  </thead>\n",
       "  <tbody>\n",
       "    <tr>\n",
       "      <th>0</th>\n",
       "      <td>IndiGo</td>\n",
       "      <td>Banglore</td>\n",
       "      <td>New Delhi</td>\n",
       "      <td>BLR → DEL</td>\n",
       "      <td>22.333333</td>\n",
       "      <td>1.166667</td>\n",
       "      <td>2.833333</td>\n",
       "      <td>0</td>\n",
       "      <td>No info</td>\n",
       "      <td>3897</td>\n",
       "      <td>24</td>\n",
       "      <td>3</td>\n",
       "      <td>1.0</td>\n",
       "    </tr>\n",
       "    <tr>\n",
       "      <th>1</th>\n",
       "      <td>Air India</td>\n",
       "      <td>Kolkata</td>\n",
       "      <td>Banglore</td>\n",
       "      <td>CCU → IXR → BBI → BLR</td>\n",
       "      <td>5.833333</td>\n",
       "      <td>13.250000</td>\n",
       "      <td>7.416667</td>\n",
       "      <td>2</td>\n",
       "      <td>No info</td>\n",
       "      <td>7662</td>\n",
       "      <td>1</td>\n",
       "      <td>5</td>\n",
       "      <td>0.0</td>\n",
       "    </tr>\n",
       "    <tr>\n",
       "      <th>2</th>\n",
       "      <td>Jet Airways</td>\n",
       "      <td>Delhi</td>\n",
       "      <td>Cochin</td>\n",
       "      <td>DEL → LKO → BOM → COK</td>\n",
       "      <td>9.416667</td>\n",
       "      <td>4.416667</td>\n",
       "      <td>19.000000</td>\n",
       "      <td>2</td>\n",
       "      <td>No info</td>\n",
       "      <td>13882</td>\n",
       "      <td>9</td>\n",
       "      <td>6</td>\n",
       "      <td>1.0</td>\n",
       "    </tr>\n",
       "    <tr>\n",
       "      <th>3</th>\n",
       "      <td>IndiGo</td>\n",
       "      <td>Kolkata</td>\n",
       "      <td>Banglore</td>\n",
       "      <td>CCU → NAG → BLR</td>\n",
       "      <td>18.083333</td>\n",
       "      <td>23.500000</td>\n",
       "      <td>5.416667</td>\n",
       "      <td>1</td>\n",
       "      <td>No info</td>\n",
       "      <td>6218</td>\n",
       "      <td>12</td>\n",
       "      <td>5</td>\n",
       "      <td>0.0</td>\n",
       "    </tr>\n",
       "    <tr>\n",
       "      <th>4</th>\n",
       "      <td>IndiGo</td>\n",
       "      <td>Banglore</td>\n",
       "      <td>New Delhi</td>\n",
       "      <td>BLR → NAG → DEL</td>\n",
       "      <td>16.833333</td>\n",
       "      <td>21.583333</td>\n",
       "      <td>4.750000</td>\n",
       "      <td>1</td>\n",
       "      <td>No info</td>\n",
       "      <td>13302</td>\n",
       "      <td>1</td>\n",
       "      <td>3</td>\n",
       "      <td>0.0</td>\n",
       "    </tr>\n",
       "  </tbody>\n",
       "</table>\n",
       "</div>"
      ],
      "text/plain": [
       "       Airline    Source Destination                  Route   Dep_Time  \\\n",
       "0       IndiGo  Banglore   New Delhi              BLR → DEL  22.333333   \n",
       "1    Air India   Kolkata    Banglore  CCU → IXR → BBI → BLR   5.833333   \n",
       "2  Jet Airways     Delhi      Cochin  DEL → LKO → BOM → COK   9.416667   \n",
       "3       IndiGo   Kolkata    Banglore        CCU → NAG → BLR  18.083333   \n",
       "4       IndiGo  Banglore   New Delhi        BLR → NAG → DEL  16.833333   \n",
       "\n",
       "   Arrival_Time   Duration  Total_Stops Additional_Info  Price  Journey_day  \\\n",
       "0      1.166667   2.833333            0         No info   3897           24   \n",
       "1     13.250000   7.416667            2         No info   7662            1   \n",
       "2      4.416667  19.000000            2         No info  13882            9   \n",
       "3     23.500000   5.416667            1         No info   6218           12   \n",
       "4     21.583333   4.750000            1         No info  13302            1   \n",
       "\n",
       "   Journey_month  Nights  \n",
       "0              3     1.0  \n",
       "1              5     0.0  \n",
       "2              6     1.0  \n",
       "3              5     0.0  \n",
       "4              3     0.0  "
      ]
     },
     "execution_count": 148,
     "metadata": {},
     "output_type": "execute_result"
    }
   ],
   "source": [
    "df.head()"
   ]
  },
  {
   "cell_type": "markdown",
   "id": "30fd8c5e",
   "metadata": {},
   "source": [
    "Lets deal with categorical columns now"
   ]
  },
  {
   "cell_type": "code",
   "execution_count": 149,
   "id": "7751aa84",
   "metadata": {},
   "outputs": [],
   "source": [
    "#remove Route column\n",
    "df.drop(\"Route\", axis = 1, inplace = True)"
   ]
  },
  {
   "cell_type": "code",
   "execution_count": 150,
   "id": "c45459eb",
   "metadata": {},
   "outputs": [
    {
     "data": {
      "text/plain": [
       "Jet Airways                          3849\n",
       "IndiGo                               2053\n",
       "Air India                            1751\n",
       "Multiple carriers                    1196\n",
       "SpiceJet                              818\n",
       "Vistara                               479\n",
       "Air Asia                              319\n",
       "GoAir                                 194\n",
       "Multiple carriers Premium economy      13\n",
       "Jet Airways Business                    6\n",
       "Vistara Premium economy                 3\n",
       "Trujet                                  1\n",
       "Name: Airline, dtype: int64"
      ]
     },
     "execution_count": 150,
     "metadata": {},
     "output_type": "execute_result"
    }
   ],
   "source": [
    "#check Airline values \n",
    "df[\"Airline\"].value_counts()"
   ]
  },
  {
   "cell_type": "code",
   "execution_count": 151,
   "id": "581745ea",
   "metadata": {},
   "outputs": [
    {
     "data": {
      "text/plain": [
       "Cochin       4536\n",
       "Banglore     2871\n",
       "Delhi        1265\n",
       "New Delhi     932\n",
       "Hyderabad     697\n",
       "Kolkata       381\n",
       "Name: Destination, dtype: int64"
      ]
     },
     "execution_count": 151,
     "metadata": {},
     "output_type": "execute_result"
    }
   ],
   "source": [
    "#check Destination values \n",
    "df[\"Destination\"].value_counts()"
   ]
  },
  {
   "cell_type": "code",
   "execution_count": 152,
   "id": "97a4aeed",
   "metadata": {},
   "outputs": [
    {
     "data": {
      "text/plain": [
       "Delhi       4536\n",
       "Kolkata     2871\n",
       "Banglore    2197\n",
       "Mumbai       697\n",
       "Chennai      381\n",
       "Name: Source, dtype: int64"
      ]
     },
     "execution_count": 152,
     "metadata": {},
     "output_type": "execute_result"
    }
   ],
   "source": [
    "#check Source values \n",
    "df[\"Source\"].value_counts()"
   ]
  },
  {
   "cell_type": "code",
   "execution_count": 153,
   "id": "305093a3",
   "metadata": {},
   "outputs": [
    {
     "data": {
      "text/plain": [
       "No info                         8344\n",
       "In-flight meal not included     1982\n",
       "No check-in baggage included     320\n",
       "1 Long layover                    19\n",
       "Change airports                    7\n",
       "Business class                     4\n",
       "No Info                            3\n",
       "1 Short layover                    1\n",
       "Red-eye flight                     1\n",
       "2 Long layover                     1\n",
       "Name: Additional_Info, dtype: int64"
      ]
     },
     "execution_count": 153,
     "metadata": {},
     "output_type": "execute_result"
    }
   ],
   "source": [
    "#check Info values \n",
    "df[\"Additional_Info\"].value_counts()"
   ]
  },
  {
   "cell_type": "code",
   "execution_count": 154,
   "id": "58207393",
   "metadata": {},
   "outputs": [],
   "source": [
    "#change type of Airline, Source, Destination and Additional_info columns to category\n",
    "df =  df.astype({\"Airline\": \"category\", \"Source\": \"category\", \"Destination\": \"category\", \"Additional_Info\": \"category\"})   "
   ]
  },
  {
   "cell_type": "code",
   "execution_count": 155,
   "id": "c5f78a00",
   "metadata": {},
   "outputs": [
    {
     "name": "stdout",
     "output_type": "stream",
     "text": [
      "<class 'pandas.core.frame.DataFrame'>\n",
      "Int64Index: 10682 entries, 0 to 10682\n",
      "Data columns (total 12 columns):\n",
      " #   Column           Non-Null Count  Dtype   \n",
      "---  ------           --------------  -----   \n",
      " 0   Airline          10682 non-null  category\n",
      " 1   Source           10682 non-null  category\n",
      " 2   Destination      10682 non-null  category\n",
      " 3   Dep_Time         10682 non-null  float64 \n",
      " 4   Arrival_Time     10682 non-null  float64 \n",
      " 5   Duration         10682 non-null  float64 \n",
      " 6   Total_Stops      10682 non-null  int64   \n",
      " 7   Additional_Info  10682 non-null  category\n",
      " 8   Price            10682 non-null  int64   \n",
      " 9   Journey_day      10682 non-null  int64   \n",
      " 10  Journey_month    10682 non-null  int64   \n",
      " 11  Nights           10682 non-null  float64 \n",
      "dtypes: category(4), float64(4), int64(4)\n",
      "memory usage: 794.0 KB\n"
     ]
    }
   ],
   "source": [
    "df.info()"
   ]
  },
  {
   "cell_type": "code",
   "execution_count": 156,
   "id": "0ab02d9e",
   "metadata": {},
   "outputs": [
    {
     "data": {
      "text/plain": [
       "Dep_Time         0.005468\n",
       "Arrival_Time     0.020901\n",
       "Duration         0.506604\n",
       "Total_Stops      0.603897\n",
       "Price            1.000000\n",
       "Journey_day     -0.153774\n",
       "Journey_month   -0.103643\n",
       "Nights           0.347238\n",
       "Name: Price, dtype: float64"
      ]
     },
     "execution_count": 156,
     "metadata": {},
     "output_type": "execute_result"
    }
   ],
   "source": [
    "#check correlation of numercial features with price\n",
    "df.corr()[\"Price\"]"
   ]
  },
  {
   "cell_type": "markdown",
   "id": "4fdf4bbf",
   "metadata": {},
   "source": [
    "We can see that most of the numercial features are at least a little bit correlated with price."
   ]
  },
  {
   "cell_type": "markdown",
   "id": "9581cf63",
   "metadata": {},
   "source": [
    "Lets see how is price distributed among categorical features"
   ]
  },
  {
   "cell_type": "code",
   "execution_count": 157,
   "id": "15ece676",
   "metadata": {},
   "outputs": [
    {
     "data": {
      "text/plain": [
       "<AxesSubplot:xlabel='Destination', ylabel='Price'>"
      ]
     },
     "execution_count": 157,
     "metadata": {},
     "output_type": "execute_result"
    },
    {
     "data": {
      "image/png": "[encoded data removed]",
      "text/plain": [
       "<Figure size 1080x432 with 1 Axes>"
      ]
     },
     "metadata": {},
     "output_type": "display_data"
    }
   ],
   "source": [
    "sns.set(rc = {'figure.figsize':(15,6)})\n",
    "\n",
    "sns.boxplot(x = 'Destination', y = 'Price', data = df)"
   ]
  },
  {
   "cell_type": "markdown",
   "id": "a5920041",
   "metadata": {},
   "source": [
    "New Delhi and Cochin destinations has the biggest flight prices, there are even some outliers with really high price."
   ]
  },
  {
   "cell_type": "code",
   "execution_count": 158,
   "id": "62e7bc7f",
   "metadata": {},
   "outputs": [
    {
     "data": {
      "text/plain": [
       "<AxesSubplot:xlabel='Source', ylabel='Price'>"
      ]
     },
     "execution_count": 158,
     "metadata": {},
     "output_type": "execute_result"
    },
    {
     "data": {
      "image/png": "[encoded data removed]",
      "text/plain": [
       "<Figure size 1080x432 with 1 Axes>"
      ]
     },
     "metadata": {},
     "output_type": "display_data"
    }
   ],
   "source": [
    "sns.boxplot(x = 'Source', y = 'Price', data = df)"
   ]
  },
  {
   "cell_type": "markdown",
   "id": "25dd0762",
   "metadata": {},
   "source": [
    "Now let's check if some airlines are more expensive than others."
   ]
  },
  {
   "cell_type": "code",
   "execution_count": 159,
   "id": "4442aeb0",
   "metadata": {},
   "outputs": [
    {
     "data": {
      "text/plain": [
       "[Text(0, 0, 'IndiGo'),\n",
       " Text(1, 0, 'Air India'),\n",
       " Text(2, 0, 'Jet Airways'),\n",
       " Text(3, 0, 'SpiceJet'),\n",
       " Text(4, 0, 'Multiple carriers'),\n",
       " Text(5, 0, 'GoAir'),\n",
       " Text(6, 0, 'Vistara'),\n",
       " Text(7, 0, 'Air Asia'),\n",
       " Text(8, 0, 'Vistara Premium economy'),\n",
       " Text(9, 0, 'Jet Airways Business'),\n",
       " Text(10, 0, 'Multiple carriers Premium economy'),\n",
       " Text(11, 0, 'Trujet')]"
      ]
     },
     "execution_count": 159,
     "metadata": {},
     "output_type": "execute_result"
    },
    {
     "data": {
      "image/png": "[encoded data removed]",
      "text/plain": [
       "<Figure size 1080x432 with 1 Axes>"
      ]
     },
     "metadata": {},
     "output_type": "display_data"
    }
   ],
   "source": [
    "labels = df['Airline'].unique()\n",
    "sns.boxplot(x = 'Airline', y = 'Price', data = df).set_xticklabels(labels, rotation = 90)"
   ]
  },
  {
   "cell_type": "markdown",
   "id": "3a2ddd63",
   "metadata": {},
   "source": [
    "And indeed GoAir is by far the most expensive airline.\n",
    "\n",
    "Will Additional_info column bring some information abour flight price? "
   ]
  },
  {
   "cell_type": "code",
   "execution_count": 160,
   "id": "799d4254",
   "metadata": {},
   "outputs": [
    {
     "data": {
      "text/plain": [
       "[Text(0, 0, 'No info'),\n",
       " Text(1, 0, 'In-flight meal not included'),\n",
       " Text(2, 0, 'No check-in baggage included'),\n",
       " Text(3, 0, '1 Short layover'),\n",
       " Text(4, 0, 'No Info'),\n",
       " Text(5, 0, '1 Long layover'),\n",
       " Text(6, 0, 'Change airports'),\n",
       " Text(7, 0, 'Business class'),\n",
       " Text(8, 0, 'Red-eye flight'),\n",
       " Text(9, 0, '2 Long layover')]"
      ]
     },
     "execution_count": 160,
     "metadata": {},
     "output_type": "execute_result"
    },
    {
     "data": {
      "image/png": "[encoded data removed]",
      "text/plain": [
       "<Figure size 1080x432 with 1 Axes>"
      ]
     },
     "metadata": {},
     "output_type": "display_data"
    }
   ],
   "source": [
    "labels = df['Additional_Info'].unique()\n",
    "\n",
    "sns.boxplot(x = 'Additional_Info', y = 'Price', data = df).set_xticklabels(labels, rotation = 90)"
   ]
  },
  {
   "cell_type": "markdown",
   "id": "800eaee9",
   "metadata": {},
   "source": [
    "We have explored our dataset, so now find the best regressor based on cross-validation."
   ]
  },
  {
   "cell_type": "code",
   "execution_count": 161,
   "id": "af44c8a9",
   "metadata": {},
   "outputs": [],
   "source": [
    "from sklearn.preprocessing import (\n",
    "    OneHotEncoder,\n",
    "    OrdinalEncoder,\n",
    "    StandardScaler,\n",
    ")\n",
    "\n",
    "from sklearn.compose import make_column_transformer, make_column_selector\n",
    "from sklearn.model_selection import train_test_split\n",
    "from sklearn.pipeline import make_pipeline\n",
    "\n",
    "from sklearn.metrics import mean_squared_error as mse"
   ]
  },
  {
   "cell_type": "code",
   "execution_count": 162,
   "id": "1147c135",
   "metadata": {},
   "outputs": [],
   "source": [
    "#prepare Train, and Test dataset\n",
    "X = df.drop(\"Price\", axis = 1)\n",
    "y = df[\"Price\"]\n",
    "\n",
    "X_train, X_test, y_train, y_test = train_test_split(X, y, test_size=0.2, random_state=42)\n",
    "\n",
    "X_train.reset_index(drop = True, inplace = True)\n",
    "y_train.reset_index(drop = True, inplace = True)"
   ]
  },
  {
   "cell_type": "code",
   "execution_count": 163,
   "id": "421c45b2",
   "metadata": {},
   "outputs": [],
   "source": [
    "def evaluate_cv(depth, leaf, n, features, kf):\n",
    "    \"\"\"\n",
    "    this function returns list of mean square erorrs in test samples \n",
    "    \n",
    "    :param depth int: maximal depth of tree\n",
    "    :param leaf int: min number of sample in leaf\n",
    "    :param n int: number of trees in random forest\n",
    "    :param features int: maximal number of features for a tree\n",
    "    :param kf object: cross-validation K-fold object\n",
    "    \"\"\"\n",
    "    global data_inputs, data_outputs, threshold\n",
    "    \n",
    "    cvscores = [] \n",
    "    \n",
    "    #create pipeline\n",
    "    pipeline = make_pipeline(\n",
    "    make_column_transformer(\n",
    "        #handle categories\n",
    "        (OneHotEncoder(handle_unknown = \"ignore\"), [\"Airline\", \"Source\", \"Destination\", \"Additional_Info\"]),\n",
    "        remainder=\"passthrough\",\n",
    "    ),\n",
    "        #inicialize model\n",
    "    RandomForestRegressor(max_depth=depth, min_samples_leaf = leaf ,max_features = features,\n",
    "                          n_estimators = n ,\n",
    "                          random_state = 0, bootstrap = True),\n",
    "    )\n",
    "    for train, test in kf.split(X_train, y_train):\n",
    "        # split train data\n",
    "        X_train_cv, X_test_cv = X_train.iloc[train], X_train.iloc[test]\n",
    "        y_train_cv, y_test_cv = y_train[train], y_train[test]\n",
    "        \n",
    "        # define model\n",
    "        model = pipeline\n",
    "        \n",
    "        #fit model\n",
    "        model.fit(X_train_cv, y_train_cv)  \n",
    "        \n",
    "        #predict cross-validation Test data\n",
    "        predictions = model.predict(X_test_cv) \n",
    "        \n",
    "        #calculate error\n",
    "        error = mse(predictions, y_test_cv)\n",
    "        \n",
    "        #append error to list\n",
    "        cvscores.append(error)\n",
    "    #return list with errors\n",
    "    return cvscores"
   ]
  },
  {
   "cell_type": "code",
   "execution_count": 164,
   "id": "5e659093",
   "metadata": {},
   "outputs": [
    {
     "data": {
      "text/html": [
       "<div>\n",
       "<style scoped>\n",
       "    .dataframe tbody tr th:only-of-type {\n",
       "        vertical-align: middle;\n",
       "    }\n",
       "\n",
       "    .dataframe tbody tr th {\n",
       "        vertical-align: top;\n",
       "    }\n",
       "\n",
       "    .dataframe thead th {\n",
       "        text-align: right;\n",
       "    }\n",
       "</style>\n",
       "<table border=\"1\" class=\"dataframe\">\n",
       "  <thead>\n",
       "    <tr style=\"text-align: right;\">\n",
       "      <th></th>\n",
       "      <th>Depth</th>\n",
       "      <th>M_S_L</th>\n",
       "      <th>N_estim</th>\n",
       "      <th>Max_F</th>\n",
       "      <th>mean</th>\n",
       "    </tr>\n",
       "  </thead>\n",
       "  <tbody>\n",
       "    <tr>\n",
       "      <th>0</th>\n",
       "      <td>10.0</td>\n",
       "      <td>1.0</td>\n",
       "      <td>5.0</td>\n",
       "      <td>sqrt</td>\n",
       "      <td>4.921183e+06</td>\n",
       "    </tr>\n",
       "    <tr>\n",
       "      <th>1</th>\n",
       "      <td>10.0</td>\n",
       "      <td>1.0</td>\n",
       "      <td>5.0</td>\n",
       "      <td>None</td>\n",
       "      <td>3.665692e+06</td>\n",
       "    </tr>\n",
       "    <tr>\n",
       "      <th>2</th>\n",
       "      <td>10.0</td>\n",
       "      <td>100.0</td>\n",
       "      <td>5.0</td>\n",
       "      <td>sqrt</td>\n",
       "      <td>8.642598e+06</td>\n",
       "    </tr>\n",
       "    <tr>\n",
       "      <th>3</th>\n",
       "      <td>10.0</td>\n",
       "      <td>100.0</td>\n",
       "      <td>5.0</td>\n",
       "      <td>None</td>\n",
       "      <td>7.068579e+06</td>\n",
       "    </tr>\n",
       "    <tr>\n",
       "      <th>4</th>\n",
       "      <td>10.0</td>\n",
       "      <td>250.0</td>\n",
       "      <td>5.0</td>\n",
       "      <td>sqrt</td>\n",
       "      <td>1.008199e+07</td>\n",
       "    </tr>\n",
       "    <tr>\n",
       "      <th>...</th>\n",
       "      <td>...</td>\n",
       "      <td>...</td>\n",
       "      <td>...</td>\n",
       "      <td>...</td>\n",
       "      <td>...</td>\n",
       "    </tr>\n",
       "    <tr>\n",
       "      <th>67</th>\n",
       "      <td>50.0</td>\n",
       "      <td>1.0</td>\n",
       "      <td>50.0</td>\n",
       "      <td>None</td>\n",
       "      <td>2.643422e+06</td>\n",
       "    </tr>\n",
       "    <tr>\n",
       "      <th>68</th>\n",
       "      <td>50.0</td>\n",
       "      <td>100.0</td>\n",
       "      <td>50.0</td>\n",
       "      <td>sqrt</td>\n",
       "      <td>8.448230e+06</td>\n",
       "    </tr>\n",
       "    <tr>\n",
       "      <th>69</th>\n",
       "      <td>50.0</td>\n",
       "      <td>100.0</td>\n",
       "      <td>50.0</td>\n",
       "      <td>None</td>\n",
       "      <td>6.728637e+06</td>\n",
       "    </tr>\n",
       "    <tr>\n",
       "      <th>70</th>\n",
       "      <td>50.0</td>\n",
       "      <td>250.0</td>\n",
       "      <td>50.0</td>\n",
       "      <td>sqrt</td>\n",
       "      <td>9.787943e+06</td>\n",
       "    </tr>\n",
       "    <tr>\n",
       "      <th>71</th>\n",
       "      <td>50.0</td>\n",
       "      <td>250.0</td>\n",
       "      <td>50.0</td>\n",
       "      <td>None</td>\n",
       "      <td>8.095953e+06</td>\n",
       "    </tr>\n",
       "  </tbody>\n",
       "</table>\n",
       "<p>72 rows × 5 columns</p>\n",
       "</div>"
      ],
      "text/plain": [
       "    Depth  M_S_L  N_estim Max_F          mean\n",
       "0    10.0    1.0      5.0  sqrt  4.921183e+06\n",
       "1    10.0    1.0      5.0  None  3.665692e+06\n",
       "2    10.0  100.0      5.0  sqrt  8.642598e+06\n",
       "3    10.0  100.0      5.0  None  7.068579e+06\n",
       "4    10.0  250.0      5.0  sqrt  1.008199e+07\n",
       "..    ...    ...      ...   ...           ...\n",
       "67   50.0    1.0     50.0  None  2.643422e+06\n",
       "68   50.0  100.0     50.0  sqrt  8.448230e+06\n",
       "69   50.0  100.0     50.0  None  6.728637e+06\n",
       "70   50.0  250.0     50.0  sqrt  9.787943e+06\n",
       "71   50.0  250.0     50.0  None  8.095953e+06\n",
       "\n",
       "[72 rows x 5 columns]"
      ]
     },
     "execution_count": 164,
     "metadata": {},
     "output_type": "execute_result"
    }
   ],
   "source": [
    "from sklearn.model_selection import KFold\n",
    "\n",
    "# inicialize cross validation\n",
    "kf = KFold(n_splits=5)\n",
    "\n",
    "# statistical values from from cross validation will be saved in cv_data\n",
    "cv_data = pd.DataFrame()\n",
    "\n",
    "# parameters that will be checked\n",
    "depths = [10, 20, 50]\n",
    "min_samples_leaf = [1, 100, 250]\n",
    "n_estim = [5, 10, 20, 50]\n",
    "max_featues = [\"sqrt\", None]\n",
    "\n",
    "for d in depths:\n",
    "    for n in n_estim:\n",
    "        for l in min_samples_leaf:  \n",
    "            for f in max_featues:\n",
    "                cvscores = evaluate_cv(d, l, n, f,  kf)\n",
    "\n",
    "                # for every parameter calculate statistical values\n",
    "                mean = np.mean(cvscores)\n",
    "                df2 = {\"Depth\": d, \"M_S_L\": l, \"N_estim\": n,\"Max_F\": str(f), \"mean\": mean}\n",
    "\n",
    "                # saving data in cv_data\n",
    "                cv_data = cv_data.append(df2, ignore_index = True)\n",
    "cv_data    "
   ]
  },
  {
   "cell_type": "markdown",
   "id": "dc343652",
   "metadata": {},
   "source": [
    "Pick the best parametr based on cross-validation and test model on test data"
   ]
  },
  {
   "cell_type": "code",
   "execution_count": 165,
   "id": "c047194a",
   "metadata": {},
   "outputs": [
    {
     "data": {
      "text/html": [
       "<div>\n",
       "<style scoped>\n",
       "    .dataframe tbody tr th:only-of-type {\n",
       "        vertical-align: middle;\n",
       "    }\n",
       "\n",
       "    .dataframe tbody tr th {\n",
       "        vertical-align: top;\n",
       "    }\n",
       "\n",
       "    .dataframe thead th {\n",
       "        text-align: right;\n",
       "    }\n",
       "</style>\n",
       "<table border=\"1\" class=\"dataframe\">\n",
       "  <thead>\n",
       "    <tr style=\"text-align: right;\">\n",
       "      <th></th>\n",
       "      <th>Depth</th>\n",
       "      <th>M_S_L</th>\n",
       "      <th>N_estim</th>\n",
       "      <th>Max_F</th>\n",
       "      <th>mean</th>\n",
       "    </tr>\n",
       "  </thead>\n",
       "  <tbody>\n",
       "    <tr>\n",
       "      <th>43</th>\n",
       "      <td>20.0</td>\n",
       "      <td>1.0</td>\n",
       "      <td>50.0</td>\n",
       "      <td>None</td>\n",
       "      <td>2.615422e+06</td>\n",
       "    </tr>\n",
       "  </tbody>\n",
       "</table>\n",
       "</div>"
      ],
      "text/plain": [
       "    Depth  M_S_L  N_estim Max_F          mean\n",
       "43   20.0    1.0     50.0  None  2.615422e+06"
      ]
     },
     "execution_count": 165,
     "metadata": {},
     "output_type": "execute_result"
    }
   ],
   "source": [
    "cv_data.loc[cv_data[\"mean\"] == cv_data[\"mean\"].min()]"
   ]
  },
  {
   "cell_type": "code",
   "execution_count": 166,
   "id": "45a9a1cf",
   "metadata": {},
   "outputs": [],
   "source": [
    "pipeline = make_pipeline(\n",
    "    make_column_transformer(\n",
    "        (OneHotEncoder(handle_unknown = \"ignore\"), [\"Airline\", \"Source\", \"Destination\", \"Additional_Info\"]),\n",
    "        remainder=\"passthrough\",\n",
    "    ),\n",
    "    RandomForestRegressor(max_depth=20, min_samples_leaf = 1,max_features = None,\n",
    "                          n_estimators = 50, \n",
    "                          random_state = 0, bootstrap = True),\n",
    "    )"
   ]
  },
  {
   "cell_type": "code",
   "execution_count": 167,
   "id": "6e6586eb",
   "metadata": {},
   "outputs": [
    {
     "data": {
      "text/plain": [
       "<Figure size 864x864 with 0 Axes>"
      ]
     },
     "metadata": {},
     "output_type": "display_data"
    },
    {
     "data": {
      "image/png": "[encoded data removed]",
      "text/plain": [
       "<Figure size 360x360 with 1 Axes>"
      ]
     },
     "metadata": {},
     "output_type": "display_data"
    }
   ],
   "source": [
    "#fit model on train data\n",
    "\n",
    "pipeline.fit(X_train,y_train)\n",
    "prediction = pipeline.predict(X_test)\n",
    "\n",
    "#plot distribution of  differences between true flight price and prediction \n",
    "plt.figure(figsize = (12,12))\n",
    "sns.displot(y_test - prediction, bins = 200)\n",
    "plt.show()"
   ]
  },
  {
   "cell_type": "markdown",
   "id": "c91ece49",
   "metadata": {},
   "source": [
    "It looks like our model does a pretty good job, the most of the differences are near to zero.\n",
    "\n",
    "Now let's plot scatter plot of predictions and true prices. "
   ]
  },
  {
   "cell_type": "code",
   "execution_count": 168,
   "id": "f7241b6b",
   "metadata": {},
   "outputs": [
    {
     "data": {
      "image/png": "[encoded data removed]",
      "text/plain": [
       "<Figure size 576x576 with 1 Axes>"
      ]
     },
     "metadata": {},
     "output_type": "display_data"
    }
   ],
   "source": [
    "plt.figure(figsize = (8,8))\n",
    "plt.scatter(y_test, prediction, alpha = 0.5)\n",
    "plt.xlabel(\"y_test\")\n",
    "plt.ylabel(\"y_pred\")\n",
    "plt.show()"
   ]
  },
  {
   "cell_type": "markdown",
   "id": "97da3914",
   "metadata": {},
   "source": [
    "Almost all data lies near to imaginary line, which means that the difference between prediction and tru flight price is low. It looks like there are only two outliers, in both cases our model predicted lower prices, then it was.\n",
    "\n",
    "Let's now check how much vairence can our model explain. "
   ]
  },
  {
   "cell_type": "code",
   "execution_count": 169,
   "id": "613a97e3",
   "metadata": {},
   "outputs": [
    {
     "name": "stdout",
     "output_type": "stream",
     "text": [
      "r2 score:  0.8857731013791481\n"
     ]
    }
   ],
   "source": [
    "print('r2 score: ', metrics.r2_score(y_test,prediction))"
   ]
  },
  {
   "cell_type": "markdown",
   "id": "15601685",
   "metadata": {},
   "source": [
    "88.5% of varience is explained based on features. Let's see if it goes up, if we remove the outliers. "
   ]
  },
  {
   "cell_type": "code",
   "execution_count": 170,
   "id": "e1cab3fb",
   "metadata": {},
   "outputs": [
    {
     "data": {
      "image/png": "[encoded data removed]",
      "text/plain": [
       "<Figure size 576x576 with 1 Axes>"
      ]
     },
     "metadata": {},
     "output_type": "display_data"
    }
   ],
   "source": [
    "X_test = X_test.loc[y_test < 33000]\n",
    "y_test = y_test[y_test < 33000]\n",
    "pipeline.fit(X_train,y_train)\n",
    "prediction = pipeline.predict(X_test)\n",
    "plt.figure(figsize = (8,8))\n",
    "plt.scatter(y_test, prediction, alpha = 0.5)\n",
    "plt.xlabel(\"y_test\")\n",
    "plt.ylabel(\"y_pred\")\n",
    "plt.show()"
   ]
  },
  {
   "cell_type": "code",
   "execution_count": 171,
   "id": "5b669bf1",
   "metadata": {},
   "outputs": [
    {
     "name": "stdout",
     "output_type": "stream",
     "text": [
      "r2 score:  0.9362299411639956\n"
     ]
    }
   ],
   "source": [
    "print('r2 score: ', metrics.r2_score(y_test,prediction))"
   ]
  },
  {
   "cell_type": "markdown",
   "id": "1c3b5307",
   "metadata": {},
   "source": [
    "Indeed if we remove only 3 data points, the explained varience goes up to 94%. "
   ]
  }
 ],
 "metadata": {
  "kernelspec": {
   "display_name": "Python 3 (ipykernel)",
   "language": "python",
   "name": "python3"
  },
  "language_info": {
   "codemirror_mode": {
    "name": "ipython",
    "version": 3
   },
   "file_extension": ".py",
   "mimetype": "text/x-python",
   "name": "python",
   "nbconvert_exporter": "python",
   "pygments_lexer": "ipython3",
   "version": "3.9.7"
  }
 },
 "nbformat": 4,
 "nbformat_minor": 5
}
